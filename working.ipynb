{
 "cells": [
  {
   "cell_type": "markdown",
   "metadata": {},
   "source": [
    "## 1.1: Processing Dataset For Classification Problem."
   ]
  },
  {
   "cell_type": "code",
   "execution_count": 489,
   "metadata": {},
   "outputs": [],
   "source": [
    "import pandas as pd\n",
    "import numpy as np\n",
    "import matplotlib.pyplot as plt\n",
    "import seaborn as sns\n",
    "import random"
   ]
  },
  {
   "cell_type": "code",
   "execution_count": 490,
   "metadata": {},
   "outputs": [
    {
     "data": {
      "text/html": [
       "<div>\n",
       "<style scoped>\n",
       "    .dataframe tbody tr th:only-of-type {\n",
       "        vertical-align: middle;\n",
       "    }\n",
       "\n",
       "    .dataframe tbody tr th {\n",
       "        vertical-align: top;\n",
       "    }\n",
       "\n",
       "    .dataframe thead th {\n",
       "        text-align: right;\n",
       "    }\n",
       "</style>\n",
       "<table border=\"1\" class=\"dataframe\">\n",
       "  <thead>\n",
       "    <tr style=\"text-align: right;\">\n",
       "      <th></th>\n",
       "      <th>target</th>\n",
       "      <th>var1</th>\n",
       "      <th>var2</th>\n",
       "      <th>var3</th>\n",
       "      <th>var4</th>\n",
       "      <th>var5</th>\n",
       "      <th>var6</th>\n",
       "      <th>var7</th>\n",
       "    </tr>\n",
       "  </thead>\n",
       "  <tbody>\n",
       "    <tr>\n",
       "      <th>0</th>\n",
       "      <td>0</td>\n",
       "      <td>509.18</td>\n",
       "      <td>417.681</td>\n",
       "      <td>Micronesia</td>\n",
       "      <td>138.0</td>\n",
       "      <td>393.00</td>\n",
       "      <td>no</td>\n",
       "      <td>2019-07-20 13:21:37</td>\n",
       "    </tr>\n",
       "    <tr>\n",
       "      <th>1</th>\n",
       "      <td>0</td>\n",
       "      <td>446.06</td>\n",
       "      <td>666.182</td>\n",
       "      <td>Dominica</td>\n",
       "      <td>81.0</td>\n",
       "      <td>352.05</td>\n",
       "      <td>yes</td>\n",
       "      <td>2019-04-04 21:30:46</td>\n",
       "    </tr>\n",
       "    <tr>\n",
       "      <th>2</th>\n",
       "      <td>1</td>\n",
       "      <td>235.50</td>\n",
       "      <td>398.097</td>\n",
       "      <td>Isle of Man</td>\n",
       "      <td>90.0</td>\n",
       "      <td>339.00</td>\n",
       "      <td>no</td>\n",
       "      <td>2019-03-03 02:59:37</td>\n",
       "    </tr>\n",
       "    <tr>\n",
       "      <th>3</th>\n",
       "      <td>0</td>\n",
       "      <td>306.02</td>\n",
       "      <td>518.163</td>\n",
       "      <td>Turkmenistan</td>\n",
       "      <td>102.0</td>\n",
       "      <td>439.25</td>\n",
       "      <td>yes</td>\n",
       "      <td>2019-03-19 08:00:58</td>\n",
       "    </tr>\n",
       "    <tr>\n",
       "      <th>4</th>\n",
       "      <td>0</td>\n",
       "      <td>453.08</td>\n",
       "      <td>600.156</td>\n",
       "      <td>Cameroon</td>\n",
       "      <td>105.0</td>\n",
       "      <td>422.95</td>\n",
       "      <td>no</td>\n",
       "      <td>2019-03-18 13:22:35</td>\n",
       "    </tr>\n",
       "  </tbody>\n",
       "</table>\n",
       "</div>"
      ],
      "text/plain": [
       "   target    var1     var2          var3   var4    var5 var6  \\\n",
       "0       0  509.18  417.681    Micronesia  138.0  393.00   no   \n",
       "1       0  446.06  666.182      Dominica   81.0  352.05  yes   \n",
       "2       1  235.50  398.097   Isle of Man   90.0  339.00   no   \n",
       "3       0  306.02  518.163  Turkmenistan  102.0  439.25  yes   \n",
       "4       0  453.08  600.156      Cameroon  105.0  422.95   no   \n",
       "\n",
       "                  var7  \n",
       "0  2019-07-20 13:21:37  \n",
       "1  2019-04-04 21:30:46  \n",
       "2  2019-03-03 02:59:37  \n",
       "3  2019-03-19 08:00:58  \n",
       "4  2019-03-18 13:22:35  "
      ]
     },
     "execution_count": 490,
     "metadata": {},
     "output_type": "execute_result"
    }
   ],
   "source": [
    "raw_data = pd.read_excel(\"dataset1.xlsx\")\n",
    "raw_data.head()"
   ]
  },
  {
   "cell_type": "code",
   "execution_count": 491,
   "metadata": {},
   "outputs": [
    {
     "data": {
      "text/html": [
       "<div>\n",
       "<style scoped>\n",
       "    .dataframe tbody tr th:only-of-type {\n",
       "        vertical-align: middle;\n",
       "    }\n",
       "\n",
       "    .dataframe tbody tr th {\n",
       "        vertical-align: top;\n",
       "    }\n",
       "\n",
       "    .dataframe thead th {\n",
       "        text-align: right;\n",
       "    }\n",
       "</style>\n",
       "<table border=\"1\" class=\"dataframe\">\n",
       "  <thead>\n",
       "    <tr style=\"text-align: right;\">\n",
       "      <th></th>\n",
       "      <th>var1</th>\n",
       "      <th>var2</th>\n",
       "      <th>var4</th>\n",
       "      <th>var5</th>\n",
       "    </tr>\n",
       "  </thead>\n",
       "  <tbody>\n",
       "    <tr>\n",
       "      <th>count</th>\n",
       "      <td>925.000000</td>\n",
       "      <td>925.000000</td>\n",
       "      <td>325.000000</td>\n",
       "      <td>925.000000</td>\n",
       "    </tr>\n",
       "    <tr>\n",
       "      <th>mean</th>\n",
       "      <td>360.116562</td>\n",
       "      <td>548.390134</td>\n",
       "      <td>108.452308</td>\n",
       "      <td>325.393946</td>\n",
       "    </tr>\n",
       "    <tr>\n",
       "      <th>std</th>\n",
       "      <td>87.866662</td>\n",
       "      <td>135.221460</td>\n",
       "      <td>26.325744</td>\n",
       "      <td>78.862779</td>\n",
       "    </tr>\n",
       "    <tr>\n",
       "      <th>min</th>\n",
       "      <td>209.560000</td>\n",
       "      <td>139.965000</td>\n",
       "      <td>57.000000</td>\n",
       "      <td>163.000000</td>\n",
       "    </tr>\n",
       "    <tr>\n",
       "      <th>25%</th>\n",
       "      <td>278.640000</td>\n",
       "      <td>467.373000</td>\n",
       "      <td>87.000000</td>\n",
       "      <td>257.900000</td>\n",
       "    </tr>\n",
       "    <tr>\n",
       "      <th>50%</th>\n",
       "      <td>367.640000</td>\n",
       "      <td>569.841000</td>\n",
       "      <td>105.000000</td>\n",
       "      <td>342.350000</td>\n",
       "    </tr>\n",
       "    <tr>\n",
       "      <th>75%</th>\n",
       "      <td>437.600000</td>\n",
       "      <td>652.278000</td>\n",
       "      <td>126.000000</td>\n",
       "      <td>393.000000</td>\n",
       "    </tr>\n",
       "    <tr>\n",
       "      <th>max</th>\n",
       "      <td>539.920000</td>\n",
       "      <td>794.848000</td>\n",
       "      <td>180.000000</td>\n",
       "      <td>457.150000</td>\n",
       "    </tr>\n",
       "  </tbody>\n",
       "</table>\n",
       "</div>"
      ],
      "text/plain": [
       "             var1        var2        var4        var5\n",
       "count  925.000000  925.000000  325.000000  925.000000\n",
       "mean   360.116562  548.390134  108.452308  325.393946\n",
       "std     87.866662  135.221460   26.325744   78.862779\n",
       "min    209.560000  139.965000   57.000000  163.000000\n",
       "25%    278.640000  467.373000   87.000000  257.900000\n",
       "50%    367.640000  569.841000  105.000000  342.350000\n",
       "75%    437.600000  652.278000  126.000000  393.000000\n",
       "max    539.920000  794.848000  180.000000  457.150000"
      ]
     },
     "execution_count": 491,
     "metadata": {},
     "output_type": "execute_result"
    }
   ],
   "source": [
    "X, y = raw_data.iloc[:,1:], raw_data.iloc[:,0]  # separating out features and labels.\n",
    "X.describe()"
   ]
  },
  {
   "cell_type": "code",
   "execution_count": 492,
   "metadata": {},
   "outputs": [
    {
     "data": {
      "text/plain": [
       "236"
      ]
     },
     "execution_count": 492,
     "metadata": {},
     "output_type": "execute_result"
    }
   ],
   "source": [
    "len(X[\"var3\"].unique())  # counting number of unique categories in var3."
   ]
  },
  {
   "cell_type": "code",
   "execution_count": 493,
   "metadata": {},
   "outputs": [
    {
     "data": {
      "text/plain": [
       "Counter({'Czech Republic': 9,\n",
       "         'South Africa': 8,\n",
       "         'Australia': 8,\n",
       "         'Greece': 8,\n",
       "         'Senegal': 8,\n",
       "         'Micronesia': 7,\n",
       "         'Luxembourg': 7,\n",
       "         'Albania': 7,\n",
       "         'Cyprus': 7,\n",
       "         'France': 7,\n",
       "         'Burundi': 7,\n",
       "         'Turkey': 7,\n",
       "         'Liberia': 7,\n",
       "         'Bosnia and Herzegovina': 7,\n",
       "         'Cambodia': 7,\n",
       "         'Algeria': 6,\n",
       "         'Mexico': 6,\n",
       "         'Saint Vincent and the Grenadines': 6,\n",
       "         'Eritrea': 6,\n",
       "         'Belarus': 6,\n",
       "         'Ethiopia': 6,\n",
       "         'Taiwan': 6,\n",
       "         'Singapore': 6,\n",
       "         'Western Sahara': 6,\n",
       "         'Mongolia': 6,\n",
       "         'Gabon': 6,\n",
       "         'Bahamas': 6,\n",
       "         'Peru': 6,\n",
       "         'Costa Rica': 6,\n",
       "         'Afghanistan': 6,\n",
       "         'Jersey': 6,\n",
       "         'Hong Kong': 6,\n",
       "         'Malta': 6,\n",
       "         'Samoa': 6,\n",
       "         'Moldova': 6,\n",
       "         'China': 6,\n",
       "         'Christmas Island': 6,\n",
       "         'Zimbabwe': 6,\n",
       "         'Cameroon': 5,\n",
       "         'Greenland': 5,\n",
       "         'Egypt': 5,\n",
       "         'Austria': 5,\n",
       "         'Brunei Darussalam': 5,\n",
       "         'Brazil': 5,\n",
       "         'United States of America': 5,\n",
       "         'Bouvet Island (Bouvetoya)': 5,\n",
       "         'American Samoa': 5,\n",
       "         'Turks and Caicos Islands': 5,\n",
       "         'Saint Pierre and Miquelon': 5,\n",
       "         'Italy': 5,\n",
       "         'Svalbard & Jan Mayen Islands': 5,\n",
       "         'Jamaica': 5,\n",
       "         'French Southern Territories': 5,\n",
       "         'Tonga': 5,\n",
       "         'Bulgaria': 5,\n",
       "         'Fiji': 5,\n",
       "         'Canada': 5,\n",
       "         'Lebanon': 5,\n",
       "         'Honduras': 5,\n",
       "         'Puerto Rico': 5,\n",
       "         'Iran': 5,\n",
       "         'Uruguay': 5,\n",
       "         'Vanuatu': 5,\n",
       "         'Hungary': 5,\n",
       "         'Qatar': 5,\n",
       "         'Bahrain': 5,\n",
       "         'Ukraine': 5,\n",
       "         'Rwanda': 5,\n",
       "         'Serbia': 5,\n",
       "         'Timor-Leste': 5,\n",
       "         'Madagascar': 5,\n",
       "         'Cuba': 5,\n",
       "         'Netherlands Antilles': 5,\n",
       "         'Bolivia': 5,\n",
       "         'Croatia': 5,\n",
       "         'Korea': 5,\n",
       "         'Philippines': 5,\n",
       "         'Belgium': 5,\n",
       "         'Papua New Guinea': 5,\n",
       "         'Antigua and Barbuda': 5,\n",
       "         'Ecuador': 5,\n",
       "         'Somalia': 5,\n",
       "         'Venezuela': 5,\n",
       "         'Poland': 5,\n",
       "         'Indonesia': 5,\n",
       "         'Cayman Islands': 5,\n",
       "         'Mayotte': 5,\n",
       "         'Dominica': 4,\n",
       "         'Turkmenistan': 4,\n",
       "         'Liechtenstein': 4,\n",
       "         'French Guiana': 4,\n",
       "         'Barbados': 4,\n",
       "         'Chad': 4,\n",
       "         'Equatorial Guinea': 4,\n",
       "         'Grenada': 4,\n",
       "         'Belize': 4,\n",
       "         'Guam': 4,\n",
       "         'Saudi Arabia': 4,\n",
       "         'Thailand': 4,\n",
       "         'French Polynesia': 4,\n",
       "         'Palau': 4,\n",
       "         'Saint Helena': 4,\n",
       "         'Guyana': 4,\n",
       "         'Angola': 4,\n",
       "         'Latvia': 4,\n",
       "         'Martinique': 4,\n",
       "         \"Lao People's Democratic Republic\": 4,\n",
       "         'Pakistan': 4,\n",
       "         'Guatemala': 4,\n",
       "         'Kazakhstan': 4,\n",
       "         'Israel': 4,\n",
       "         'United States Minor Outlying Islands': 4,\n",
       "         'Bangladesh': 4,\n",
       "         'Georgia': 4,\n",
       "         'Mali': 4,\n",
       "         'Anguilla': 4,\n",
       "         'Falkland Islands (Malvinas)': 4,\n",
       "         'New Zealand': 4,\n",
       "         'Wallis and Futuna': 4,\n",
       "         'Mauritius': 4,\n",
       "         'Sweden': 4,\n",
       "         \"Cote d'Ivoire\": 4,\n",
       "         'Switzerland': 4,\n",
       "         'Finland': 4,\n",
       "         'Myanmar': 4,\n",
       "         'Dominican Republic': 4,\n",
       "         'Zambia': 4,\n",
       "         'Kyrgyz Republic': 4,\n",
       "         'El Salvador': 4,\n",
       "         'United Arab Emirates': 4,\n",
       "         'Ghana': 4,\n",
       "         'Malawi': 4,\n",
       "         'Uganda': 4,\n",
       "         'Japan': 4,\n",
       "         'Norfolk Island': 4,\n",
       "         'Kenya': 4,\n",
       "         'United States Virgin Islands': 4,\n",
       "         'Tuvalu': 4,\n",
       "         'Sri Lanka': 4,\n",
       "         'Burkina Faso': 4,\n",
       "         'Saint Martin': 4,\n",
       "         'Tokelau': 4,\n",
       "         'Libyan Arab Jamahiriya': 4,\n",
       "         'Isle of Man': 3,\n",
       "         'Netherlands': 3,\n",
       "         'Armenia': 3,\n",
       "         'Guinea': 3,\n",
       "         'Estonia': 3,\n",
       "         'Morocco': 3,\n",
       "         'Tajikistan': 3,\n",
       "         'Guernsey': 3,\n",
       "         'Lithuania': 3,\n",
       "         'Vietnam': 3,\n",
       "         'Syrian Arab Republic': 3,\n",
       "         'Faroe Islands': 3,\n",
       "         'Seychelles': 3,\n",
       "         'Azerbaijan': 3,\n",
       "         'Nauru': 3,\n",
       "         'Macao': 3,\n",
       "         'Monaco': 3,\n",
       "         'British Virgin Islands': 3,\n",
       "         'Yemen': 3,\n",
       "         'Nicaragua': 3,\n",
       "         'Denmark': 3,\n",
       "         'Palestinian Territory': 3,\n",
       "         'Heard Island and McDonald Islands': 3,\n",
       "         'Ireland': 3,\n",
       "         'Niue': 3,\n",
       "         'Gibraltar': 3,\n",
       "         'Iceland': 3,\n",
       "         'United Kingdom': 3,\n",
       "         'Spain': 3,\n",
       "         'Tunisia': 3,\n",
       "         'Northern Mariana Islands': 3,\n",
       "         'Congo': 3,\n",
       "         'Niger': 3,\n",
       "         'Antarctica (the territory South of 60 deg S)': 3,\n",
       "         'Chile': 3,\n",
       "         'Holy See (Vatican City State)': 3,\n",
       "         'Nepal': 3,\n",
       "         'Argentina': 2,\n",
       "         'Tanzania': 2,\n",
       "         'San Marino': 2,\n",
       "         'India': 2,\n",
       "         'Andorra': 2,\n",
       "         'Gambia': 2,\n",
       "         'Macedonia': 2,\n",
       "         'Suriname': 2,\n",
       "         'Saint Lucia': 2,\n",
       "         'Trinidad and Tobago': 2,\n",
       "         'New Caledonia': 2,\n",
       "         'Saint Barthelemy': 2,\n",
       "         'Sao Tome and Principe': 2,\n",
       "         'Mauritania': 2,\n",
       "         'Togo': 2,\n",
       "         'Portugal': 2,\n",
       "         'Swaziland': 2,\n",
       "         'Bhutan': 2,\n",
       "         'Paraguay': 2,\n",
       "         'Panama': 2,\n",
       "         'Djibouti': 2,\n",
       "         'Kuwait': 2,\n",
       "         'Namibia': 2,\n",
       "         'Slovakia (Slovak Republic)': 2,\n",
       "         'Central African Republic': 2,\n",
       "         'Cook Islands': 2,\n",
       "         'Sudan': 2,\n",
       "         'Reunion': 2,\n",
       "         'Norway': 2,\n",
       "         'Russian Federation': 2,\n",
       "         'Comoros': 2,\n",
       "         'Malaysia': 2,\n",
       "         'Sierra Leone': 2,\n",
       "         'South Georgia and the South Sandwich Islands': 2,\n",
       "         'Maldives': 2,\n",
       "         'Montenegro': 2,\n",
       "         'Pitcairn Islands': 2,\n",
       "         'Colombia': 2,\n",
       "         'Uzbekistan': 2,\n",
       "         'Guinea-Bissau': 2,\n",
       "         'Jordan': 1,\n",
       "         'Montserrat': 1,\n",
       "         'Kiribati': 1,\n",
       "         'British Indian Ocean Territory (Chagos Archipelago)': 1,\n",
       "         'Lesotho': 1,\n",
       "         'Bermuda': 1,\n",
       "         'Guadeloupe': 1,\n",
       "         'Marshall Islands': 1,\n",
       "         'Benin': 1,\n",
       "         'Slovenia': 1,\n",
       "         'Aruba': 1,\n",
       "         'Cape Verde': 1,\n",
       "         'Mozambique': 1,\n",
       "         'Germany': 1,\n",
       "         'Haiti': 1,\n",
       "         'Saint Kitts and Nevis': 1})"
      ]
     },
     "execution_count": 493,
     "metadata": {},
     "output_type": "execute_result"
    }
   ],
   "source": [
    "from collections import Counter\n",
    "Counter(X[\"var3\"])  # counting item occurences in var3."
   ]
  },
  {
   "cell_type": "code",
   "execution_count": 494,
   "metadata": {},
   "outputs": [
    {
     "data": {
      "text/plain": [
       "Counter({'yes': 483, 'no': 442})"
      ]
     },
     "execution_count": 494,
     "metadata": {},
     "output_type": "execute_result"
    }
   ],
   "source": [
    "Counter(X[\"var6\"])  # counting item occurences in var6."
   ]
  },
  {
   "cell_type": "code",
   "execution_count": 495,
   "metadata": {},
   "outputs": [
    {
     "data": {
      "text/plain": [
       "['2019-02-29 12:31:57',\n",
       " '2019-02-29 18:06:21',\n",
       " '2019-02-29 11:00:06',\n",
       " '2019-02-29 23:56:06',\n",
       " '2019-02-29 19:26:35']"
      ]
     },
     "execution_count": 495,
     "metadata": {},
     "output_type": "execute_result"
    }
   ],
   "source": [
    "[x for x in X[\"var7\"] if type(x)==str]  # exploring the string values in var7."
   ]
  },
  {
   "cell_type": "code",
   "execution_count": 496,
   "metadata": {},
   "outputs": [],
   "source": [
    "X.drop('var7', axis=1, inplace=True)  # removing var7."
   ]
  },
  {
   "cell_type": "code",
   "execution_count": 497,
   "metadata": {},
   "outputs": [
    {
     "data": {
      "text/html": [
       "<div>\n",
       "<style scoped>\n",
       "    .dataframe tbody tr th:only-of-type {\n",
       "        vertical-align: middle;\n",
       "    }\n",
       "\n",
       "    .dataframe tbody tr th {\n",
       "        vertical-align: top;\n",
       "    }\n",
       "\n",
       "    .dataframe thead th {\n",
       "        text-align: right;\n",
       "    }\n",
       "</style>\n",
       "<table border=\"1\" class=\"dataframe\">\n",
       "  <thead>\n",
       "    <tr style=\"text-align: right;\">\n",
       "      <th></th>\n",
       "      <th>var1</th>\n",
       "      <th>var2</th>\n",
       "      <th>var4</th>\n",
       "      <th>var5</th>\n",
       "    </tr>\n",
       "  </thead>\n",
       "  <tbody>\n",
       "    <tr>\n",
       "      <th>var1</th>\n",
       "      <td>1.000000</td>\n",
       "      <td>0.344854</td>\n",
       "      <td>-0.387306</td>\n",
       "      <td>0.519466</td>\n",
       "    </tr>\n",
       "    <tr>\n",
       "      <th>var2</th>\n",
       "      <td>0.344854</td>\n",
       "      <td>1.000000</td>\n",
       "      <td>-0.243858</td>\n",
       "      <td>0.328229</td>\n",
       "    </tr>\n",
       "    <tr>\n",
       "      <th>var4</th>\n",
       "      <td>-0.387306</td>\n",
       "      <td>-0.243858</td>\n",
       "      <td>1.000000</td>\n",
       "      <td>-0.385052</td>\n",
       "    </tr>\n",
       "    <tr>\n",
       "      <th>var5</th>\n",
       "      <td>0.519466</td>\n",
       "      <td>0.328229</td>\n",
       "      <td>-0.385052</td>\n",
       "      <td>1.000000</td>\n",
       "    </tr>\n",
       "  </tbody>\n",
       "</table>\n",
       "</div>"
      ],
      "text/plain": [
       "          var1      var2      var4      var5\n",
       "var1  1.000000  0.344854 -0.387306  0.519466\n",
       "var2  0.344854  1.000000 -0.243858  0.328229\n",
       "var4 -0.387306 -0.243858  1.000000 -0.385052\n",
       "var5  0.519466  0.328229 -0.385052  1.000000"
      ]
     },
     "execution_count": 497,
     "metadata": {},
     "output_type": "execute_result"
    }
   ],
   "source": [
    "X_numeric = X[['var1', 'var2', 'var4', 'var5']]\n",
    "X_numeric.corr()  # none of the pairs are particularly strongly correlated."
   ]
  },
  {
   "cell_type": "code",
   "execution_count": 498,
   "metadata": {},
   "outputs": [
    {
     "data": {
      "text/plain": [
       "<matplotlib.collections.PathCollection at 0x18cfab86190>"
      ]
     },
     "execution_count": 498,
     "metadata": {},
     "output_type": "execute_result"
    },
    {
     "data": {
      "image/png": "[encoded data removed]",
      "text/plain": [
       "<Figure size 640x480 with 1 Axes>"
      ]
     },
     "metadata": {},
     "output_type": "display_data"
    }
   ],
   "source": [
    "plt.scatter(X['var1'], X['var4'], c=y)"
   ]
  },
  {
   "cell_type": "markdown",
   "metadata": {},
   "source": [
    "### Replacing var4 Missing Values"
   ]
  },
  {
   "cell_type": "code",
   "execution_count": 499,
   "metadata": {},
   "outputs": [],
   "source": [
    "original_col = X['var4']  # preserving the original subset.\n",
    "\n",
    "for index, row in X.iterrows():\n",
    "    if np.isnan(row['var4']):\n",
    "        random_sample = original_col.iloc[random.randrange(len(X['var4'].dropna()))]  # randomly selects a value from original subset.\n",
    "        X.loc[index, 'var4'] = random_sample  # replaces the nan value with the random sample."
   ]
  },
  {
   "cell_type": "code",
   "execution_count": 500,
   "metadata": {},
   "outputs": [
    {
     "data": {
      "text/plain": [
       "Text(0.5, 1.0, 'Boxplot of var4 Before Random Sample Imputation')"
      ]
     },
     "execution_count": 500,
     "metadata": {},
     "output_type": "execute_result"
    },
    {
     "data": {
      "image/png": "[encoded data removed]",
      "text/plain": [
       "<Figure size 640x480 with 1 Axes>"
      ]
     },
     "metadata": {},
     "output_type": "display_data"
    }
   ],
   "source": [
    "sns.boxplot(original_col)\n",
    "plt.title('Boxplot of var4 Before Random Sample Imputation')"
   ]
  },
  {
   "cell_type": "code",
   "execution_count": 501,
   "metadata": {},
   "outputs": [
    {
     "data": {
      "text/plain": [
       "Text(0.5, 1.0, 'Boxplot of var4 After Random Sample Imputation')"
      ]
     },
     "execution_count": 501,
     "metadata": {},
     "output_type": "execute_result"
    },
    {
     "data": {
      "image/png": "[encoded data removed]",
      "text/plain": [
       "<Figure size 640x480 with 1 Axes>"
      ]
     },
     "metadata": {},
     "output_type": "display_data"
    }
   ],
   "source": [
    "sns.boxplot(X['var4'])\n",
    "plt.title('Boxplot of var4 After Random Sample Imputation')"
   ]
  },
  {
   "cell_type": "code",
   "execution_count": 502,
   "metadata": {},
   "outputs": [
    {
     "data": {
      "text/html": [
       "<div>\n",
       "<style scoped>\n",
       "    .dataframe tbody tr th:only-of-type {\n",
       "        vertical-align: middle;\n",
       "    }\n",
       "\n",
       "    .dataframe tbody tr th {\n",
       "        vertical-align: top;\n",
       "    }\n",
       "\n",
       "    .dataframe thead th {\n",
       "        text-align: right;\n",
       "    }\n",
       "</style>\n",
       "<table border=\"1\" class=\"dataframe\">\n",
       "  <thead>\n",
       "    <tr style=\"text-align: right;\">\n",
       "      <th></th>\n",
       "      <th>var1</th>\n",
       "      <th>var2</th>\n",
       "      <th>var4</th>\n",
       "      <th>var5</th>\n",
       "    </tr>\n",
       "  </thead>\n",
       "  <tbody>\n",
       "    <tr>\n",
       "      <th>var1</th>\n",
       "      <td>1.000000</td>\n",
       "      <td>0.344854</td>\n",
       "      <td>-0.131581</td>\n",
       "      <td>0.519466</td>\n",
       "    </tr>\n",
       "    <tr>\n",
       "      <th>var2</th>\n",
       "      <td>0.344854</td>\n",
       "      <td>1.000000</td>\n",
       "      <td>-0.035511</td>\n",
       "      <td>0.328229</td>\n",
       "    </tr>\n",
       "    <tr>\n",
       "      <th>var4</th>\n",
       "      <td>-0.131581</td>\n",
       "      <td>-0.035511</td>\n",
       "      <td>1.000000</td>\n",
       "      <td>-0.128862</td>\n",
       "    </tr>\n",
       "    <tr>\n",
       "      <th>var5</th>\n",
       "      <td>0.519466</td>\n",
       "      <td>0.328229</td>\n",
       "      <td>-0.128862</td>\n",
       "      <td>1.000000</td>\n",
       "    </tr>\n",
       "  </tbody>\n",
       "</table>\n",
       "</div>"
      ],
      "text/plain": [
       "          var1      var2      var4      var5\n",
       "var1  1.000000  0.344854 -0.131581  0.519466\n",
       "var2  0.344854  1.000000 -0.035511  0.328229\n",
       "var4 -0.131581 -0.035511  1.000000 -0.128862\n",
       "var5  0.519466  0.328229 -0.128862  1.000000"
      ]
     },
     "execution_count": 502,
     "metadata": {},
     "output_type": "execute_result"
    }
   ],
   "source": [
    "X_numeric = X[['var1', 'var2', 'var4', 'var5']]\n",
    "X_numeric.corr()  # var4 is now less correlated with other columns."
   ]
  },
  {
   "cell_type": "markdown",
   "metadata": {},
   "source": [
    "### One-Hot Encoding var6"
   ]
  },
  {
   "cell_type": "code",
   "execution_count": 503,
   "metadata": {},
   "outputs": [],
   "source": [
    "X = pd.get_dummies(X, columns=['var6'], drop_first=False)  # creates a new column for each unique entry in var6.\n",
    "X['var6_no'] = X['var6_no'].astype(int)  # converts from bool to int.\n",
    "X['var6_yes'] = X['var6_yes'].astype(int)"
   ]
  },
  {
   "cell_type": "code",
   "execution_count": 504,
   "metadata": {},
   "outputs": [],
   "source": [
    "X.drop('var3', axis=1, inplace=True)  # removing var3 for testing without it."
   ]
  },
  {
   "cell_type": "markdown",
   "metadata": {},
   "source": [
    "### Decision Tree Model"
   ]
  },
  {
   "cell_type": "code",
   "execution_count": 505,
   "metadata": {},
   "outputs": [],
   "source": [
    "from sklearn.model_selection import train_test_split\n",
    "from sklearn.tree import DecisionTreeClassifier\n",
    "from sklearn import metrics"
   ]
  },
  {
   "cell_type": "code",
   "execution_count": 506,
   "metadata": {},
   "outputs": [],
   "source": [
    "X_train, X_test, y_train, y_test = train_test_split(X, y, test_size=0.3, train_size=0.7)\n"
   ]
  },
  {
   "cell_type": "code",
   "execution_count": 507,
   "metadata": {},
   "outputs": [
    {
     "name": "stdout",
     "output_type": "stream",
     "text": [
      "Accuracy: 0.9280575539568345\n"
     ]
    }
   ],
   "source": [
    "model = DecisionTreeClassifier()\n",
    "model = model.fit(X_train, y_train)\n",
    "y_pred = model.predict(X_test)\n",
    "print(\"Accuracy:\", metrics.accuracy_score(y_test, y_pred))"
   ]
  },
  {
   "cell_type": "markdown",
   "metadata": {},
   "source": [
    "### Random Forest Model"
   ]
  },
  {
   "cell_type": "code",
   "execution_count": 508,
   "metadata": {},
   "outputs": [],
   "source": [
    "from sklearn.ensemble import RandomForestClassifier"
   ]
  },
  {
   "cell_type": "code",
   "execution_count": 509,
   "metadata": {},
   "outputs": [
    {
     "name": "stdout",
     "output_type": "stream",
     "text": [
      "Accuracy: 0.960431654676259\n"
     ]
    }
   ],
   "source": [
    "model = RandomForestClassifier()\n",
    "model = model.fit(X_train, y_train)\n",
    "y_pred = model.predict(X_test)\n",
    "print(\"Accuracy:\", metrics.accuracy_score(y_test, y_pred))"
   ]
  }
 ],
 "metadata": {
  "kernelspec": {
   "display_name": "base",
   "language": "python",
   "name": "python3"
  },
  "language_info": {
   "codemirror_mode": {
    "name": "ipython",
    "version": 3
   },
   "file_extension": ".py",
   "mimetype": "text/x-python",
   "name": "python",
   "nbconvert_exporter": "python",
   "pygments_lexer": "ipython3",
   "version": "3.11.5"
  }
 },
 "nbformat": 4,
 "nbformat_minor": 2
}
