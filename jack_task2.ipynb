{
 "cells": [
  {
   "cell_type": "markdown",
   "metadata": {},
   "source": [
    "## 2: Dataset2 3-Digit Classification"
   ]
  },
  {
   "cell_type": "code",
   "execution_count": 23,
   "metadata": {},
   "outputs": [],
   "source": [
    "import numpy as np\n",
    "import pandas as pd\n",
    "import matplotlib.pyplot as plt\n",
    "import matplotlib.image as mpimg\n",
    "import random"
   ]
  },
  {
   "cell_type": "code",
   "execution_count": 2,
   "metadata": {},
   "outputs": [
    {
     "name": "stdout",
     "output_type": "stream",
     "text": [
      "Shape: (84, 84)\n",
      "Range: 0.0-1.0\n"
     ]
    },
    {
     "data": {
      "image/png": "[encoded data removed]",
      "text/plain": [
       "<Figure size 640x480 with 1 Axes>"
      ]
     },
     "metadata": {},
     "output_type": "display_data"
    }
   ],
   "source": [
    "img = mpimg.imread('dataset2/triple_mnist/train/004/14_004.png')\n",
    "imgplot = plt.imshow(img, cmap='gray')\n",
    "print('Shape: ' + str(img.shape))\n",
    "print('Range: ' + str(np.min(img)) + '-' + str(np.max(img)))"
   ]
  },
  {
   "cell_type": "markdown",
   "metadata": {},
   "source": [
    "### Data Pre-Processing"
   ]
  },
  {
   "cell_type": "code",
   "execution_count": 3,
   "metadata": {},
   "outputs": [],
   "source": [
    "import os\n",
    "\n",
    "def get_data(subdir):\n",
    "    # this imports all the data from a specified subdirectory and places into [img, label] pairs in a list.\n",
    "    dir = 'dataset2/triple_mnist'  # base directory for all data.\n",
    "    data = []\n",
    "    labels = os.listdir(os.path.join(dir, subdir))  # get all folders (labels) in the subdirectory.\n",
    "    \n",
    "    for label in labels:  # cycles through each folder (label).\n",
    "        class_num = int(label)\n",
    "\n",
    "        for img in os.listdir(os.path.join(dir, subdir, label)):  # cycles through each png.\n",
    "            try:\n",
    "                img_arr = plt.imread(os.path.join(dir, subdir, label, img))  # reads image data.\n",
    "                data.append([img_arr.flatten(), class_num])  # appends flattened image data with label.\n",
    "            except Exception as e:\n",
    "                print(e)\n",
    "\n",
    "    return data"
   ]
  },
  {
   "cell_type": "code",
   "execution_count": 4,
   "metadata": {},
   "outputs": [],
   "source": [
    "train_raw = get_data('train')\n",
    "val_raw = get_data('val')\n",
    "test_raw = get_data('test')"
   ]
  },
  {
   "cell_type": "code",
   "execution_count": 26,
   "metadata": {},
   "outputs": [],
   "source": [
    "combined_data = train_raw + val_raw + test_raw"
   ]
  },
  {
   "cell_type": "code",
   "execution_count": 31,
   "metadata": {},
   "outputs": [],
   "source": [
    "def prop_split_data(data, labels, r_train, r_val, r_test):\n",
    "    # this takes the combined data and randomly splits it into train, val, and test sets, each containing the right amount of each label.\n",
    "\n",
    "    if r_train + r_val + r_test != 1:\n",
    "        raise Exception(\"Ratios do not sum to 1.\")\n",
    "\n",
    "    train = []\n",
    "    val = []\n",
    "    test = []\n",
    "\n",
    "    for lab in labels:\n",
    "        isolated_data = [x for x in data if x[1]==lab]\n",
    "        n = len(isolated_data)\n",
    "        random.shuffle(isolated_data)\n",
    "\n",
    "        train.extend(isolated_data[-(int(n*r_train)):])\n",
    "        del isolated_data[-(int(n*r_train)):]\n",
    "        val.extend(isolated_data[-(int(n*r_val)):])\n",
    "        del isolated_data[-(int(n*r_val)):]\n",
    "        test.extend(isolated_data[-(int(n*r_test)):])\n",
    "        del isolated_data[-(int(n*r_test)):]\n",
    "\n",
    "    return train, val, test"
   ]
  },
  {
   "cell_type": "code",
   "execution_count": 32,
   "metadata": {},
   "outputs": [],
   "source": [
    "new_train, new_val, new_test = prop_split_data(combined_data, np.arange(0, 1000), r_train=0.64, r_val=0.16, r_test=0.2)"
   ]
  },
  {
   "cell_type": "code",
   "execution_count": 55,
   "metadata": {},
   "outputs": [],
   "source": [
    "def organise_data(data):\n",
    "    # takes in data in shape (?,2), with each entry being in form [flattened_img, label].\n",
    "    X = []\n",
    "    y = []\n",
    "\n",
    "    for img, label in data:\n",
    "        X.append(img)\n",
    "        y.append(label)\n",
    "\n",
    "    return np.array(X), np.array(y)"
   ]
  },
  {
   "cell_type": "code",
   "execution_count": 56,
   "metadata": {},
   "outputs": [],
   "source": [
    "X_train, y_train = organise_data(train_raw)"
   ]
  },
  {
   "cell_type": "code",
   "execution_count": 57,
   "metadata": {},
   "outputs": [
    {
     "name": "stdout",
     "output_type": "stream",
     "text": [
      "(160,)\n"
     ]
    }
   ],
   "source": [
    "# NUMBERS PER SET\n",
    "# train: 640 (64 needed of each number per set)\n",
    "# test: 200 (20)\n",
    "# val: 160 (16)"
   ]
  }
 ],
 "metadata": {
  "kernelspec": {
   "display_name": "base",
   "language": "python",
   "name": "python3"
  },
  "language_info": {
   "codemirror_mode": {
    "name": "ipython",
    "version": 3
   },
   "file_extension": ".py",
   "mimetype": "text/x-python",
   "name": "python",
   "nbconvert_exporter": "python",
   "pygments_lexer": "ipython3",
   "version": "3.11.5"
  }
 },
 "nbformat": 4,
 "nbformat_minor": 2
}
