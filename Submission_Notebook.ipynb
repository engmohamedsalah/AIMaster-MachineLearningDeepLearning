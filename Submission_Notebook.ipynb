{
 "cells": [
  {
   "cell_type": "markdown",
   "metadata": {},
   "source": [
    "We must show evidence of:\n",
    "\n",
    "- Load and preprocess the dataset for the classification problem (handle missing data, convert categorical features to numerical features).\n",
    "- Build a classifier for the classification problem using one of the specified models (logistic regression, decision trees, random forests, or artificial neural networks).\n",
    "- Fine-tune the selected model using appropriate techniques (eg, hyperparameter tuning, cross-validation, etc).\n",
    "- Visualise the dataset and / or the model's results, where applicable (eg, feature importance, confusion matrix, etc).\n",
    "- Report the final performance of the selected model using appropriate performance metrics (eg, accuracy, F1-score, etc).\n",
    "\n",
    "- Load and preprocess the dataset for the multi-label image-based digit classification problem (normalise pixel values, resize images if necessary, etc).\n",
    "- Build a convolutional neural network (CNN) model for the multi-label image-based digit classification task.\n",
    "- Fine-tune the CNN model using appropriate techniques (eg, hyperparameter tuning, cross-validation, etc).\n",
    "- Visualise the dataset and / or the CNN model's results, where applicable (eg, feature maps, learning curves, etc).\n",
    "- Report the final performance of the CNN model using appropriate performance metrics (eg, accuracy, F1-score, etc).\n",
    "- Collaborate within the team and decide on the best model (for classification) and CNN architecture (for digit recognition).\n",
    "- Submit the code as Jupyter Notebooks.\n",
    "\n",
    "\n",
    "Notebook should also contain:\n",
    "\n",
    "- All of your materials which demonstrate successful completion of the tasks above.\n",
    "- The Jupyter Notebook file should contain all output cells.\n",
    "- The code you produce to solve the above tasks should make good use of structure, logic and commenting to be clear and robust.\n",
    "- Variable names should be thoughtfully considered and appropriate for the purpose. Ensure that scope conflicts are avoided, and that variable names don’t leak into other code areas. It will help to consider how the structures covered throughout the module may be used. Similarly, it would be best to be mindful of error handling where appropriate.\n",
    "- The use of markdown cells is advised to keep a clear distinction between tasks.\n",
    "- It is expected that you will use commenting in markdown cells to explain how you have handled the task.\n",
    "- This notebook should include detailed comments that outline the individual contributions of each team member, the learning experiences that resulted from collaboration, and the reasoning behind the choice of the final models. Be sure to mention any specific insights or improvements gained through your collaborative efforts.\n",
    "- Use only your student ID number to identify yourself. Do not include your name in your coursework or the file name."
   ]
  },
  {
   "cell_type": "markdown",
   "metadata": {},
   "source": [
    "# *771948_A23_T3A: Machine Learning & Deep Learning - Coursework 1*\n",
    "### Authors: 202326742 & \n",
    "***"
   ]
  },
  {
   "cell_type": "markdown",
   "metadata": {},
   "source": [
    "## 1 - Classification of Dataset1"
   ]
  },
  {
   "cell_type": "markdown",
   "metadata": {},
   "source": [
    "### 1.1 - Importing and Exploring the Data"
   ]
  }
 ],
 "metadata": {
  "language_info": {
   "name": "python"
  }
 },
 "nbformat": 4,
 "nbformat_minor": 2
}
