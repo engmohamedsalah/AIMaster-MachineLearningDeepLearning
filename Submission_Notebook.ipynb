{
 "cells": [
  {
   "cell_type": "markdown",
   "metadata": {},
   "source": [
    "We must show evidence of:\n",
    "\n",
    "- Load and preprocess the dataset for the classification problem (handle missing data, convert categorical features to numerical features).\n",
    "- Build a classifier for the classification problem using one of the specified models (logistic regression, decision trees, random forests, or artificial neural networks).\n",
    "- Fine-tune the selected model using appropriate techniques (eg, hyperparameter tuning, cross-validation, etc).\n",
    "- Visualise the dataset and / or the model's results, where applicable (eg, feature importance, confusion matrix, etc).\n",
    "- Report the final performance of the selected model using appropriate performance metrics (eg, accuracy, F1-score, etc).\n",
    "\n",
    "- Load and preprocess the dataset for the multi-label image-based digit classification problem (normalise pixel values, resize images if necessary, etc).\n",
    "- Build a convolutional neural network (CNN) model for the multi-label image-based digit classification task.\n",
    "- Fine-tune the CNN model using appropriate techniques (eg, hyperparameter tuning, cross-validation, etc).\n",
    "- Visualise the dataset and / or the CNN model's results, where applicable (eg, feature maps, learning curves, etc).\n",
    "- Report the final performance of the CNN model using appropriate performance metrics (eg, accuracy, F1-score, etc).\n",
    "- Collaborate within the team and decide on the best model (for classification) and CNN architecture (for digit recognition).\n",
    "- Submit the code as Jupyter Notebooks.\n",
    "\n",
    "\n",
    "Notebook should also contain:\n",
    "\n",
    "- All of your materials which demonstrate successful completion of the tasks above.\n",
    "- The Jupyter Notebook file should contain all output cells.\n",
    "- The code you produce to solve the above tasks should make good use of structure, logic and commenting to be clear and robust.\n",
    "- Variable names should be thoughtfully considered and appropriate for the purpose. Ensure that scope conflicts are avoided, and that variable names don’t leak into other code areas. It will help to consider how the structures covered throughout the module may be used. Similarly, it would be best to be mindful of error handling where appropriate.\n",
    "- The use of markdown cells is advised to keep a clear distinction between tasks.\n",
    "- It is expected that you will use commenting in markdown cells to explain how you have handled the task.\n",
    "- This notebook should include detailed comments that outline the individual contributions of each team member, the learning experiences that resulted from collaboration, and the reasoning behind the choice of the final models. Be sure to mention any specific insights or improvements gained through your collaborative efforts.\n",
    "- Use only your student ID number to identify yourself. Do not include your name in your coursework or the file name."
   ]
  },
  {
   "cell_type": "markdown",
   "metadata": {},
   "source": [
    "# *771948_A23_T3A: Machine Learning & Deep Learning - Coursework 1*\n",
    "### Authors: 202326742 & \n",
    "***"
   ]
  },
  {
   "cell_type": "markdown",
   "metadata": {},
   "source": [
    "## 1 - Classification of Dataset1"
   ]
  },
  {
   "cell_type": "markdown",
   "metadata": {},
   "source": [
    "### 1.1 - Importing and Exploring the Data"
   ]
  },
  {
   "cell_type": "markdown",
   "metadata": {},
   "source": [
    "To start with, we imported pandas and subsequently the dataset, exploring it together first by understanding the different datatypes present within each column:"
   ]
  },
  {
   "cell_type": "code",
   "execution_count": 135,
   "metadata": {},
   "outputs": [
    {
     "data": {
      "text/html": [
       "<div>\n",
       "<style scoped>\n",
       "    .dataframe tbody tr th:only-of-type {\n",
       "        vertical-align: middle;\n",
       "    }\n",
       "\n",
       "    .dataframe tbody tr th {\n",
       "        vertical-align: top;\n",
       "    }\n",
       "\n",
       "    .dataframe thead th {\n",
       "        text-align: right;\n",
       "    }\n",
       "</style>\n",
       "<table border=\"1\" class=\"dataframe\">\n",
       "  <thead>\n",
       "    <tr style=\"text-align: right;\">\n",
       "      <th></th>\n",
       "      <th>target</th>\n",
       "      <th>var1</th>\n",
       "      <th>var2</th>\n",
       "      <th>var3</th>\n",
       "      <th>var4</th>\n",
       "      <th>var5</th>\n",
       "      <th>var6</th>\n",
       "      <th>var7</th>\n",
       "    </tr>\n",
       "  </thead>\n",
       "  <tbody>\n",
       "    <tr>\n",
       "      <th>0</th>\n",
       "      <td>0</td>\n",
       "      <td>509.18</td>\n",
       "      <td>417.681</td>\n",
       "      <td>Micronesia</td>\n",
       "      <td>138.0</td>\n",
       "      <td>393.00</td>\n",
       "      <td>no</td>\n",
       "      <td>2019-07-20 13:21:37</td>\n",
       "    </tr>\n",
       "    <tr>\n",
       "      <th>1</th>\n",
       "      <td>0</td>\n",
       "      <td>446.06</td>\n",
       "      <td>666.182</td>\n",
       "      <td>Dominica</td>\n",
       "      <td>81.0</td>\n",
       "      <td>352.05</td>\n",
       "      <td>yes</td>\n",
       "      <td>2019-04-04 21:30:46</td>\n",
       "    </tr>\n",
       "    <tr>\n",
       "      <th>2</th>\n",
       "      <td>1</td>\n",
       "      <td>235.50</td>\n",
       "      <td>398.097</td>\n",
       "      <td>Isle of Man</td>\n",
       "      <td>90.0</td>\n",
       "      <td>339.00</td>\n",
       "      <td>no</td>\n",
       "      <td>2019-03-03 02:59:37</td>\n",
       "    </tr>\n",
       "    <tr>\n",
       "      <th>3</th>\n",
       "      <td>0</td>\n",
       "      <td>306.02</td>\n",
       "      <td>518.163</td>\n",
       "      <td>Turkmenistan</td>\n",
       "      <td>102.0</td>\n",
       "      <td>439.25</td>\n",
       "      <td>yes</td>\n",
       "      <td>2019-03-19 08:00:58</td>\n",
       "    </tr>\n",
       "    <tr>\n",
       "      <th>4</th>\n",
       "      <td>0</td>\n",
       "      <td>453.08</td>\n",
       "      <td>600.156</td>\n",
       "      <td>Cameroon</td>\n",
       "      <td>105.0</td>\n",
       "      <td>422.95</td>\n",
       "      <td>no</td>\n",
       "      <td>2019-03-18 13:22:35</td>\n",
       "    </tr>\n",
       "  </tbody>\n",
       "</table>\n",
       "</div>"
      ],
      "text/plain": [
       "   target    var1     var2          var3   var4    var5 var6  \\\n",
       "0       0  509.18  417.681    Micronesia  138.0  393.00   no   \n",
       "1       0  446.06  666.182      Dominica   81.0  352.05  yes   \n",
       "2       1  235.50  398.097   Isle of Man   90.0  339.00   no   \n",
       "3       0  306.02  518.163  Turkmenistan  102.0  439.25  yes   \n",
       "4       0  453.08  600.156      Cameroon  105.0  422.95   no   \n",
       "\n",
       "                  var7  \n",
       "0  2019-07-20 13:21:37  \n",
       "1  2019-04-04 21:30:46  \n",
       "2  2019-03-03 02:59:37  \n",
       "3  2019-03-19 08:00:58  \n",
       "4  2019-03-18 13:22:35  "
      ]
     },
     "execution_count": 135,
     "metadata": {},
     "output_type": "execute_result"
    }
   ],
   "source": [
    "import pandas as pd\n",
    "\n",
    "raw_data = pd.read_excel(\"dataset1.xlsx\")\n",
    "raw_data.head()"
   ]
  },
  {
   "cell_type": "code",
   "execution_count": 136,
   "metadata": {},
   "outputs": [
    {
     "name": "stdout",
     "output_type": "stream",
     "text": [
      "<class 'pandas.core.frame.DataFrame'>\n",
      "RangeIndex: 925 entries, 0 to 924\n",
      "Data columns (total 8 columns):\n",
      " #   Column  Non-Null Count  Dtype  \n",
      "---  ------  --------------  -----  \n",
      " 0   target  925 non-null    int64  \n",
      " 1   var1    925 non-null    float64\n",
      " 2   var2    925 non-null    float64\n",
      " 3   var3    925 non-null    object \n",
      " 4   var4    325 non-null    float64\n",
      " 5   var5    925 non-null    float64\n",
      " 6   var6    925 non-null    object \n",
      " 7   var7    925 non-null    object \n",
      "dtypes: float64(4), int64(1), object(3)\n",
      "memory usage: 57.9+ KB\n"
     ]
    }
   ],
   "source": [
    "raw_data.info()"
   ]
  },
  {
   "cell_type": "markdown",
   "metadata": {},
   "source": [
    "Use of the '.info()' function also shows the 600 null values present within the 'var4' column, which is something we will address. For now, we focused on the numerical columns and explored the statistic of them:"
   ]
  },
  {
   "cell_type": "code",
   "execution_count": 137,
   "metadata": {},
   "outputs": [
    {
     "data": {
      "text/html": [
       "<div>\n",
       "<style scoped>\n",
       "    .dataframe tbody tr th:only-of-type {\n",
       "        vertical-align: middle;\n",
       "    }\n",
       "\n",
       "    .dataframe tbody tr th {\n",
       "        vertical-align: top;\n",
       "    }\n",
       "\n",
       "    .dataframe thead th {\n",
       "        text-align: right;\n",
       "    }\n",
       "</style>\n",
       "<table border=\"1\" class=\"dataframe\">\n",
       "  <thead>\n",
       "    <tr style=\"text-align: right;\">\n",
       "      <th></th>\n",
       "      <th>target</th>\n",
       "      <th>var1</th>\n",
       "      <th>var2</th>\n",
       "      <th>var4</th>\n",
       "      <th>var5</th>\n",
       "    </tr>\n",
       "  </thead>\n",
       "  <tbody>\n",
       "    <tr>\n",
       "      <th>count</th>\n",
       "      <td>925.000000</td>\n",
       "      <td>925.000000</td>\n",
       "      <td>925.000000</td>\n",
       "      <td>325.000000</td>\n",
       "      <td>925.000000</td>\n",
       "    </tr>\n",
       "    <tr>\n",
       "      <th>mean</th>\n",
       "      <td>0.496216</td>\n",
       "      <td>360.116562</td>\n",
       "      <td>548.390134</td>\n",
       "      <td>108.452308</td>\n",
       "      <td>325.393946</td>\n",
       "    </tr>\n",
       "    <tr>\n",
       "      <th>std</th>\n",
       "      <td>0.500256</td>\n",
       "      <td>87.866662</td>\n",
       "      <td>135.221460</td>\n",
       "      <td>26.325744</td>\n",
       "      <td>78.862779</td>\n",
       "    </tr>\n",
       "    <tr>\n",
       "      <th>min</th>\n",
       "      <td>0.000000</td>\n",
       "      <td>209.560000</td>\n",
       "      <td>139.965000</td>\n",
       "      <td>57.000000</td>\n",
       "      <td>163.000000</td>\n",
       "    </tr>\n",
       "    <tr>\n",
       "      <th>25%</th>\n",
       "      <td>0.000000</td>\n",
       "      <td>278.640000</td>\n",
       "      <td>467.373000</td>\n",
       "      <td>87.000000</td>\n",
       "      <td>257.900000</td>\n",
       "    </tr>\n",
       "    <tr>\n",
       "      <th>50%</th>\n",
       "      <td>0.000000</td>\n",
       "      <td>367.640000</td>\n",
       "      <td>569.841000</td>\n",
       "      <td>105.000000</td>\n",
       "      <td>342.350000</td>\n",
       "    </tr>\n",
       "    <tr>\n",
       "      <th>75%</th>\n",
       "      <td>1.000000</td>\n",
       "      <td>437.600000</td>\n",
       "      <td>652.278000</td>\n",
       "      <td>126.000000</td>\n",
       "      <td>393.000000</td>\n",
       "    </tr>\n",
       "    <tr>\n",
       "      <th>max</th>\n",
       "      <td>1.000000</td>\n",
       "      <td>539.920000</td>\n",
       "      <td>794.848000</td>\n",
       "      <td>180.000000</td>\n",
       "      <td>457.150000</td>\n",
       "    </tr>\n",
       "  </tbody>\n",
       "</table>\n",
       "</div>"
      ],
      "text/plain": [
       "           target        var1        var2        var4        var5\n",
       "count  925.000000  925.000000  925.000000  325.000000  925.000000\n",
       "mean     0.496216  360.116562  548.390134  108.452308  325.393946\n",
       "std      0.500256   87.866662  135.221460   26.325744   78.862779\n",
       "min      0.000000  209.560000  139.965000   57.000000  163.000000\n",
       "25%      0.000000  278.640000  467.373000   87.000000  257.900000\n",
       "50%      0.000000  367.640000  569.841000  105.000000  342.350000\n",
       "75%      1.000000  437.600000  652.278000  126.000000  393.000000\n",
       "max      1.000000  539.920000  794.848000  180.000000  457.150000"
      ]
     },
     "execution_count": 137,
     "metadata": {},
     "output_type": "execute_result"
    }
   ],
   "source": [
    "raw_data.describe()"
   ]
  },
  {
   "cell_type": "markdown",
   "metadata": {},
   "source": [
    "Due to the 'int64' datatype shown in the 'target' column and the min and max values discovered, we know this is a binary classification problem. Observing this table, there appears to be some non-normal distributions within some of the columns. This is explored using histograms, with left-skew on 'var4' and the right-skews to varying degrees on 'var1', 'var2', and 'var5' being noted:"
   ]
  },
  {
   "cell_type": "code",
   "execution_count": 138,
   "metadata": {},
   "outputs": [
    {
     "data": {
      "image/png": "[encoded data removed]",
      "text/plain": [
       "<Figure size 1000x500 with 4 Axes>"
      ]
     },
     "metadata": {},
     "output_type": "display_data"
    }
   ],
   "source": [
    "import matplotlib.pyplot as plt\n",
    "\n",
    "var_nums = [1, 2, 4, 5]\n",
    "fig, axs = plt.subplots(1, 4, figsize=(10, 5))\n",
    "\n",
    "for i in range(4):\n",
    "    \n",
    "    axs[i].hist(raw_data[f'var{var_nums[i]}'])\n",
    "    axs[i].set_title(f'var{var_nums[i]}')\n",
    "\n",
    "plt.show()"
   ]
  },
  {
   "cell_type": "markdown",
   "metadata": {},
   "source": [
    "### 1.2 - Data Cleaning & Preprocessing"
   ]
  },
  {
   "cell_type": "markdown",
   "metadata": {},
   "source": [
    "First, we focused on the missing values within 'var4', and together brainstormed different ways to replace these. Mean replacement was tried first, simply replacing all the nan values with the mean value of the column. However, as shown by the boxplots before and after, this significantly impacted the distribution of the data due to the large proportion of nan values present."
   ]
  },
  {
   "cell_type": "code",
   "execution_count": 139,
   "metadata": {},
   "outputs": [
    {
     "data": {
      "image/png": "[encoded data removed]",
      "text/plain": [
       "<Figure size 800x500 with 2 Axes>"
      ]
     },
     "metadata": {},
     "output_type": "display_data"
    }
   ],
   "source": [
    "mean_value = raw_data['var4'].mean()\n",
    "\n",
    "data_copy = raw_data['var4'].copy()  # creating a new data object for testing modifications.\n",
    "data_copy = data_copy.fillna(mean_value)\n",
    "\n",
    "fig, axs = plt.subplots(1, 2, figsize=(8, 5))\n",
    "axs[0].boxplot(raw_data['var4'].dropna())\n",
    "axs[0].set_title('var4 Before Mean Replacement')\n",
    "\n",
    "axs[1].boxplot(data_copy)\n",
    "axs[1].set_title('var4 After Mean Replacement')\n",
    "\n",
    "plt.show()"
   ]
  },
  {
   "cell_type": "markdown",
   "metadata": {},
   "source": [
    "Similar problems were encountered when using median replacement. Our next idea was Random Sample Imputation, which is where for each null value, we randomly select an existing value to replace it with."
   ]
  },
  {
   "cell_type": "code",
   "execution_count": 140,
   "metadata": {},
   "outputs": [
    {
     "data": {
      "text/plain": [
       "Text(0.5, 1.0, 'var4 After Mean Replacement')"
      ]
     },
     "execution_count": 140,
     "metadata": {},
     "output_type": "execute_result"
    },
    {
     "data": {
      "image/png": "[encoded data removed]",
      "text/plain": [
       "<Figure size 800x500 with 2 Axes>"
      ]
     },
     "metadata": {},
     "output_type": "display_data"
    }
   ],
   "source": [
    "import numpy as np\n",
    "import random\n",
    "\n",
    "original_var4 = raw_data['var4']\n",
    "data_copy = raw_data['var4'].copy()\n",
    "\n",
    "for index, row in raw_data.iterrows():\n",
    "    if np.isnan(row['var4']):\n",
    "        random_sample = original_var4.iloc[random.randrange(len(original_var4.dropna()))]  # randomly selects a value from original subset.\n",
    "        data_copy[index] = random_sample  # replaces the nan value with the random sample.\n",
    "\n",
    "fig, axs = plt.subplots(1, 2, figsize=(8, 5))\n",
    "axs[0].boxplot(raw_data['var4'].dropna())\n",
    "axs[0].set_title('var4 Before Mean Replacement')\n",
    "\n",
    "axs[1].boxplot(data_copy)\n",
    "axs[1].set_title('var4 After Mean Replacement')"
   ]
  },
  {
   "cell_type": "markdown",
   "metadata": {},
   "source": [
    "As shown above, this has the benefit of approximately preserving the distribution of the data, however does result in a lot of meaningless data being added. Therefore, we decided to use this but noted that if our model does not prove effective then this is a key aspect to review."
   ]
  },
  {
   "cell_type": "code",
   "execution_count": 141,
   "metadata": {},
   "outputs": [],
   "source": [
    "clean_data = raw_data.copy()  # creating a copy of the data to add our final preprocessing modifications.\n",
    "clean_data['var4'] = data_copy"
   ]
  },
  {
   "cell_type": "markdown",
   "metadata": {},
   "source": [
    "Now we considered var7, which from our exploration earlier we know contains date and time information. We decided this would not be useful to our model, and so removed it:"
   ]
  },
  {
   "cell_type": "code",
   "execution_count": 142,
   "metadata": {},
   "outputs": [],
   "source": [
    "clean_data.drop(columns=['var7'], inplace=True)"
   ]
  },
  {
   "cell_type": "markdown",
   "metadata": {},
   "source": [
    "Next was var3, which upon initial inspection appears to contain country names. We looked at this further by establishing the number of unique entries that appear in this column:"
   ]
  },
  {
   "cell_type": "code",
   "execution_count": 143,
   "metadata": {},
   "outputs": [
    {
     "data": {
      "text/plain": [
       "236"
      ]
     },
     "execution_count": 143,
     "metadata": {},
     "output_type": "execute_result"
    }
   ],
   "source": [
    "len(clean_data[\"var3\"].unique())"
   ]
  },
  {
   "cell_type": "markdown",
   "metadata": {},
   "source": [
    "236 is a large number, and encoding that many values would dramatically increase the dimensionality of what otherwise is a simple dataset. Therefore, we decided to drop this column too, but noted that it is an aspect to consider if model performance is poor."
   ]
  },
  {
   "cell_type": "code",
   "execution_count": 144,
   "metadata": {},
   "outputs": [],
   "source": [
    "clean_data.drop(columns=['var3'], inplace=True)"
   ]
  },
  {
   "cell_type": "markdown",
   "metadata": {},
   "source": [
    "Now we are looking at var6, which initially appears to simply contain the binary entries of 'yes' and 'no'. This was checked:"
   ]
  },
  {
   "cell_type": "code",
   "execution_count": 145,
   "metadata": {},
   "outputs": [
    {
     "data": {
      "text/plain": [
       "Counter({'yes': 483, 'no': 442})"
      ]
     },
     "execution_count": 145,
     "metadata": {},
     "output_type": "execute_result"
    }
   ],
   "source": [
    "from collections import Counter\n",
    "Counter(clean_data[\"var6\"])"
   ]
  },
  {
   "cell_type": "markdown",
   "metadata": {},
   "source": [
    "Therefore we proceeded to one-hot encode this column, in order to convert from a string datatype to a numerical one:"
   ]
  },
  {
   "cell_type": "code",
   "execution_count": 146,
   "metadata": {},
   "outputs": [],
   "source": [
    "clean_data = pd.get_dummies(clean_data, columns=['var6'], drop_first=False)  # creates a new column for each unique entry in var6.\n",
    "clean_data['var6_no'] = clean_data['var6_no'].astype(int)  # converts from bool to int.\n",
    "clean_data['var6_yes'] = clean_data['var6_yes'].astype(int)"
   ]
  },
  {
   "cell_type": "markdown",
   "metadata": {},
   "source": [
    "With all of this cleaning and preprocessing complete, here is the new condition of the dataset:"
   ]
  },
  {
   "cell_type": "code",
   "execution_count": 147,
   "metadata": {},
   "outputs": [
    {
     "name": "stdout",
     "output_type": "stream",
     "text": [
      "<class 'pandas.core.frame.DataFrame'>\n",
      "RangeIndex: 925 entries, 0 to 924\n",
      "Data columns (total 7 columns):\n",
      " #   Column    Non-Null Count  Dtype  \n",
      "---  ------    --------------  -----  \n",
      " 0   target    925 non-null    int64  \n",
      " 1   var1      925 non-null    float64\n",
      " 2   var2      925 non-null    float64\n",
      " 3   var4      925 non-null    float64\n",
      " 4   var5      925 non-null    float64\n",
      " 5   var6_no   925 non-null    int32  \n",
      " 6   var6_yes  925 non-null    int32  \n",
      "dtypes: float64(4), int32(2), int64(1)\n",
      "memory usage: 43.5 KB\n"
     ]
    }
   ],
   "source": [
    "clean_data.info()"
   ]
  },
  {
   "cell_type": "markdown",
   "metadata": {},
   "source": [
    "### 1.3 - Decision Tree Model"
   ]
  },
  {
   "cell_type": "markdown",
   "metadata": {},
   "source": [
    "### 1.4 - Random Forest Model"
   ]
  },
  {
   "cell_type": "markdown",
   "metadata": {},
   "source": [
    "### 1.5 - Conclusions for Task 1"
   ]
  }
 ],
 "metadata": {
  "kernelspec": {
   "display_name": "base",
   "language": "python",
   "name": "python3"
  },
  "language_info": {
   "codemirror_mode": {
    "name": "ipython",
    "version": 3
   },
   "file_extension": ".py",
   "mimetype": "text/x-python",
   "name": "python",
   "nbconvert_exporter": "python",
   "pygments_lexer": "ipython3",
   "version": "3.11.5"
  }
 },
 "nbformat": 4,
 "nbformat_minor": 2
}
