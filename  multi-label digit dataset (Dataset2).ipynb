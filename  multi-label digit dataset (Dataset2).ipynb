{
  "cells": [
    {
      "cell_type": "code",
      "execution_count": 1,
      "metadata": {
        "id": "Bms6vVzqIxZl"
      },
      "outputs": [],
      "source": [
        "# import main lib for machine learning\n",
        "\n",
        "import tensorflow as tf\n",
        "import pandas as pd\n",
        "import numpy as np\n",
        "import matplotlib.pyplot as plt\n",
        "import sklearn\n",
        "import seaborn as sns\n",
        "import os"
      ]
    },
    {
      "cell_type": "markdown",
      "metadata": {
        "id": "-YgeV6TCJFxE"
      },
      "source": [
        "**Import the data from the excel file**"
      ]
    },
    {
      "cell_type": "code",
      "execution_count": 4,
      "metadata": {
        "id": "ur-8fEC2JMcC"
      },
      "outputs": [
        {
          "name": "stdout",
          "output_type": "stream",
          "text": [
            "Train images shape: (64000, 84, 84), Train labels shape: (64000,)\n",
            "Test images shape: (20000, 84, 84), Test labels shape: (20000,)\n",
            "Val images shape: (16000, 84, 84), Val labels shape: (16000,)\n"
          ]
        }
      ],
      "source": [
        "import os\n",
        "from PIL import Image\n",
        "\n",
        "# Define paths to your dataset\n",
        "base_path = '/Users/msalah/Downloads/triple_mnist/'\n",
        "train_path = os.path.join(base_path, 'train')\n",
        "test_path = os.path.join(base_path, 'test')\n",
        "val_path = os.path.join(base_path, 'val')\n",
        "\n",
        "def load_images_from_folder(folder_path):\n",
        "    images = []\n",
        "    labels = []\n",
        "    class_folders = sorted(os.listdir(folder_path))  # Assumes class folders are named by numbers or labels\n",
        "    for class_folder in class_folders:\n",
        "        class_path = os.path.join(folder_path, class_folder)\n",
        "        if os.path.isdir(class_path):\n",
        "            for img_file in os.listdir(class_path):\n",
        "                img_path = os.path.join(class_path, img_file)\n",
        "                if img_path.endswith('.jpg') or img_path.endswith('.png'):  # Adjust based on your image formats\n",
        "                    try:\n",
        "                        img = Image.open(img_path)\n",
        "                        img = np.array(img)  # Convert PIL Image to numpy array\n",
        "                        images.append(img)\n",
        "                        labels.append(int(class_folder))  # Assuming class folders are named numerically\n",
        "                    except Exception as e:\n",
        "                        print(f\"Error loading image: {img_path}. {e}\")\n",
        "    return images, labels\n",
        "\n",
        "# Load images and labels for train, test, and val sets\n",
        "x_train, y_train = load_images_from_folder(train_path)\n",
        "x_test, y_test = load_images_from_folder(test_path)\n",
        "x_val, y_val = load_images_from_folder(val_path)\n",
        "\n",
        "# Convert lists to numpy arrays for easier manipulation (optional)\n",
        "x_train = np.array(x_train)\n",
        "x_test = np.array(x_test)\n",
        "x_val = np.array(x_val)\n",
        "\n",
        "y_train = np.array(y_train)\n",
        "y_test = np.array(y_test)\n",
        "y_val = np.array(y_val)\n",
        "\n",
        "# Optionally, you can print out the shapes to verify\n",
        "print(f\"Train images shape: {x_train.shape}, Train labels shape: {y_train.shape}\")\n",
        "print(f\"Test images shape: {x_test.shape}, Test labels shape: {y_test.shape}\")\n",
        "print(f\"Val images shape: {x_val.shape}, Val labels shape: {y_val.shape}\")\n"
      ]
    },
    {
      "cell_type": "code",
      "execution_count": 5,
      "metadata": {},
      "outputs": [
        {
          "name": "stdout",
          "output_type": "stream",
          "text": [
            "[  0   4   5   6   7   9  11  13  15  18  20  21  22  23  24  26  27  28\n",
            "  30  31  32  33  34  35  36  37  38  40  41  42  43  45  48  49  50  52\n",
            "  54  55  57  59  61  62  63  64  66  70  71  72  74  75  78  79  80  82\n",
            "  84  85  89  90  91  93  94  95  97 100 101 102 103 104 105 107 110 114\n",
            " 115 116 117 118 119 120 121 122 124 125 127 128 131 132 134 138 142 145\n",
            " 147 148 150 151 153 155 156 157 159 160 161 162 163 164 165 166 167 169\n",
            " 170 171 172 174 175 177 178 179 181 182 183 184 185 188 189 190 191 192\n",
            " 195 196 199 200 201 202 203 204 205 209 210 211 212 216 217 219 221 223\n",
            " 226 227 228 229 230 231 232 233 234 235 236 237 239 240 241 242 243 245\n",
            " 246 248 249 250 252 254 256 258 260 261 263 264 266 267 268 269 270 272\n",
            " 273 274 275 276 277 278 279 280 282 283 284 285 287 288 289 291 292 294\n",
            " 295 297 298 299 300 302 303 306 307 308 309 310 311 313 314 316 317 318\n",
            " 320 326 327 328 329 331 332 333 335 336 338 343 344 345 346 347 348 349\n",
            " 351 352 353 356 362 363 366 367 368 369 370 372 373 374 375 376 378 379\n",
            " 381 384 386 387 388 389 391 392 395 396 397 398 399 402 403 404 406 408\n",
            " 414 415 416 417 421 425 426 427 429 430 431 435 437 443 444 445 446 447\n",
            " 448 449 450 452 453 455 456 457 458 461 462 463 468 469 470 474 476 478\n",
            " 479 482 483 485 487 491 492 498 499 500 505 508 509 511 512 514 517 518\n",
            " 520 521 522 523 524 525 526 527 528 529 531 532 533 534 536 538 541 542\n",
            " 543 545 546 547 548 549 551 553 554 556 558 560 561 563 564 565 566 567\n",
            " 568 571 577 578 580 581 584 585 586 587 590 591 594 597 598 599 600 603\n",
            " 605 606 607 610 613 614 616 617 618 619 620 621 623 624 625 626 632 633\n",
            " 637 640 641 642 643 644 646 648 650 652 653 654 655 656 657 659 660 662\n",
            " 663 664 666 667 668 669 670 671 672 674 675 676 677 678 682 683 684 685\n",
            " 687 688 689 690 691 692 693 694 696 698 699 700 701 702 704 705 706 708\n",
            " 709 710 711 712 713 714 716 719 721 722 723 724 725 727 728 729 730 732\n",
            " 733 734 735 736 738 739 743 744 747 748 749 751 752 753 754 756 757 758\n",
            " 760 761 764 767 769 770 771 773 774 776 777 778 783 784 785 786 787 788\n",
            " 791 792 793 795 797 798 799 800 801 802 803 804 805 807 808 809 810 811\n",
            " 813 814 818 820 821 822 825 827 828 830 831 832 833 834 835 838 839 840\n",
            " 844 845 848 849 850 853 854 856 857 858 859 861 863 864 868 869 870 871\n",
            " 872 874 875 876 877 881 882 883 887 891 892 893 894 896 897 898 901 902\n",
            " 903 905 908 909 913 914 916 917 918 920 921 922 923 924 925 927 928 930\n",
            " 931 932 933 934 935 936 937 938 939 941 943 946 947 948 949 950 952 953\n",
            " 958 959 960 965 966 967 968 969 970 971 972 973 974 977 978 979 982 983\n",
            " 984 985 986 987 989 991 993 994 995 997]\n"
          ]
        }
      ],
      "source": [
        "\n",
        "\n",
        "# Discover y_train\n",
        "distinct_labels = np.unique(y_train)\n",
        "print(distinct_labels)\n"
      ]
    },
    {
      "cell_type": "code",
      "execution_count": 6,
      "metadata": {},
      "outputs": [
        {
          "name": "stdout",
          "output_type": "stream",
          "text": [
            "[  2   3   8  14  16  17  39  46  47  51  56  58  60  65  67  68  73  76\n",
            "  77  86  87  88  96  98  99 106 109 111 113 123 129 135 139 140 141 146\n",
            " 154 158 176 180 186 193 198 206 208 213 214 222 224 244 253 255 257 259\n",
            " 262 265 271 290 296 301 304 305 315 319 321 322 323 339 340 342 354 357\n",
            " 358 359 360 364 365 371 377 380 382 385 390 394 401 409 411 412 418 419\n",
            " 420 424 428 433 434 438 440 451 460 465 467 471 472 473 480 481 484 486\n",
            " 489 490 493 496 497 504 510 513 515 530 537 539 544 552 555 559 569 575\n",
            " 576 582 588 595 596 608 615 628 630 631 635 638 645 647 661 665 680 681\n",
            " 695 717 720 737 742 745 755 759 762 763 765 766 768 780 781 782 790 806\n",
            " 812 815 817 819 823 824 826 836 837 842 843 846 860 862 865 866 867 873\n",
            " 878 884 885 895 899 907 919 929 942 945 951 954 956 957 964 976 988 990\n",
            " 996 998]\n"
          ]
        }
      ],
      "source": [
        " #Discover y_test\n",
        "distinct_labels = np.unique(y_test)\n",
        "print(distinct_labels)"
      ]
    },
    {
      "cell_type": "code",
      "execution_count": 7,
      "metadata": {},
      "outputs": [
        {
          "name": "stdout",
          "output_type": "stream",
          "text": [
            "[  1  10  12  19  25  29  44  53  69  81  83  92 108 112 126 130 133 136\n",
            " 137 143 144 149 152 168 173 187 194 197 207 215 218 220 225 238 247 251\n",
            " 281 286 293 312 324 325 330 334 337 341 350 355 361 383 393 400 405 407\n",
            " 410 413 422 423 432 436 439 441 442 454 459 464 466 475 477 488 494 495\n",
            " 501 502 503 506 507 516 519 535 540 550 557 562 570 572 573 574 579 583\n",
            " 589 592 593 601 602 604 609 611 612 622 627 629 634 636 639 649 651 658\n",
            " 673 679 686 697 703 707 715 718 726 731 740 741 746 750 772 775 779 789\n",
            " 794 796 816 829 841 847 851 852 855 879 880 886 888 889 890 900 904 906\n",
            " 910 911 912 915 926 940 944 955 961 962 963 975 980 981 992 999]\n"
          ]
        }
      ],
      "source": [
        "#discover y_val\n",
        "distinct_labels = np.unique(y_val)\n",
        "print(distinct_labels)"
      ]
    }
  ],
  "metadata": {
    "colab": {
      "provenance": []
    },
    "kernelspec": {
      "display_name": "Python 3",
      "name": "python3"
    },
    "language_info": {
      "codemirror_mode": {
        "name": "ipython",
        "version": 3
      },
      "file_extension": ".py",
      "mimetype": "text/x-python",
      "name": "python",
      "nbconvert_exporter": "python",
      "pygments_lexer": "ipython3",
      "version": "3.11.5"
    }
  },
  "nbformat": 4,
  "nbformat_minor": 0
}
